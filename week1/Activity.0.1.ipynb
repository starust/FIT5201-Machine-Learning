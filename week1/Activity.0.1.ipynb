{
 "cells": [
  {
   "attachments": {},
   "cell_type": "markdown",
   "metadata": {},
   "source": [
    "# Activity 0.1. Getting Started with `numpy`\n",
    "(last modified 27 Feb 2023)\n",
    "\n",
    "### Learning Outcomes\n",
    "\n",
    "In this activity we practice how to\n",
    "\n",
    "- create arrays objects in various ways including sampling random data with `numpy.random`\n",
    "- apply operations to arrays\n",
    "- select parts of an array via indexing\n",
    "- draw scatter plots `matplotlib`\n",
    "\n",
    "### Prerequisites\n",
    "\n",
    "- Python set up on your system to run Jupyter Notebooks and the libraries installed that are specified in `requirements.txt`\n",
    "- A first look at the numpy [tutorial](https://numpy.org/devdocs/user/absolute_beginners.html) (but we will point to relevant parts of the tutorials as we go)\n",
    "\n",
    "## Introduction\n",
    "\n",
    "In this unit we are mainly going to work with the following Python libraries:\n",
    "1. `numpy` for numerical computations\n",
    "2. `scipy` for some advanced scientific computing methods (not often)\n",
    "3. `matplotlib` for plotting data\n",
    "4. `scikit-learn` for machine learning tools\n",
    "\n",
    "These libraries build on each other (in the order listed) and the first three are often jointly referred to as \"the scipy-stack\". Those three are very important in the professional and academic practice of Python programming with `numpy` being the fundamental basis for writing efficient Python code. \n",
    "\n",
    "In this activity, we review the most important programming concepts with `numpy`.\n"
   ]
  },
  {
   "attachments": {},
   "cell_type": "markdown",
   "metadata": {},
   "source": [
    "## Basic Array Creation, Shape, and Data Type\n",
    "\n"
   ]
  },
  {
   "attachments": {},
   "cell_type": "markdown",
   "metadata": {},
   "source": [
    "The most central concepts of `numpy` are `array` objects, which represent a regular grid of values with some common type and an index structure to access those values ([what is an array](https://numpy.org/devdocs/user/absolute_beginners.html#what-is-an-array)).\n",
    "\n",
    "#### Task A: Create some Arrays \n",
    "\n",
    "**Work through [how to create a basic array](https://numpy.org/devdocs/user/absolute_beginners.html#how-to-create-a-basic-array) by trying out code in the cell below we already added the line to import the `numpy` module into our namespace. This is typically done by the following line, which makes all numpy types and functions available with the prefix `np`.**"
   ]
  },
  {
   "cell_type": "code",
   "execution_count": null,
   "metadata": {},
   "outputs": [],
   "source": [
    "import numpy as np"
   ]
  },
  {
   "attachments": {},
   "cell_type": "markdown",
   "metadata": {},
   "source": [
    "You should now be familiar with the most elementary way to create a `numpy` array, i.e., via calling `numpy.array` directly with a nested Python iterable that describes the data of the array as in the following two examples."
   ]
  },
  {
   "cell_type": "code",
   "execution_count": null,
   "metadata": {},
   "outputs": [],
   "source": [
    "np.array([3, 1, 5])"
   ]
  },
  {
   "cell_type": "code",
   "execution_count": null,
   "metadata": {},
   "outputs": [],
   "source": [
    "np.array([[3, 1, 5], \n",
    "          [1, 9, 2]])"
   ]
  },
  {
   "attachments": {},
   "cell_type": "markdown",
   "metadata": {},
   "source": [
    "Some other important ways to arrays are the functions\n",
    "\n",
    "- `arange` that creates arrays with consecutve integers (similar to the Python built-in function `range`)\n",
    "- `zeros` that creates an array with all zero-entries of the specified type and shape\n",
    "- `ones` that creats an array with all one-entries of the specified type and shape\n",
    "- `eye` which creates an array representing the unit matrix of desired dimensionality `p`, i.e., an array of shape `(p, p)` with `1`-entries on the diagonal and `0`-entries elsewhere. Also here the type can be varied."
   ]
  },
  {
   "cell_type": "code",
   "execution_count": null,
   "metadata": {},
   "outputs": [],
   "source": [
    "np.arange(8)"
   ]
  },
  {
   "cell_type": "code",
   "execution_count": null,
   "metadata": {},
   "outputs": [],
   "source": [
    "np.zeros(4)"
   ]
  },
  {
   "cell_type": "code",
   "execution_count": null,
   "metadata": {},
   "outputs": [],
   "source": [
    "np.zeros(shape=(5, 2), dtype=bool)"
   ]
  },
  {
   "cell_type": "code",
   "execution_count": null,
   "metadata": {},
   "outputs": [],
   "source": [
    "np.ones(6)"
   ]
  },
  {
   "cell_type": "code",
   "execution_count": null,
   "metadata": {},
   "outputs": [],
   "source": [
    "np.eye(3)"
   ]
  },
  {
   "cell_type": "code",
   "execution_count": null,
   "metadata": {},
   "outputs": [],
   "source": [
    "np.eye(3, dtype=int)"
   ]
  },
  {
   "attachments": {},
   "cell_type": "markdown",
   "metadata": {},
   "source": [
    "## Generating Random Data\n",
    "\n",
    "To test machine learning methods we will often generate some random data. A random number can be created with `numpy` via the function `numpy.random.default_rng` as in the cell below. We typically prodive a random seed in our activities to make the output of the subsequent cells deterministic/reproducible."
   ]
  },
  {
   "cell_type": "code",
   "execution_count": null,
   "metadata": {},
   "outputs": [],
   "source": [
    "RNG = np.random.default_rng(seed=0)\n",
    "RNG.random()"
   ]
  },
  {
   "attachments": {},
   "cell_type": "markdown",
   "metadata": {},
   "source": [
    "Besides the basic `random`-method, a random number generator has a number of much more convenient methods to generate random outcomes for different use cases.\n",
    "\n",
    "One important one is the `choice`-method, which generates a random selection of non-negative integers up to a maximum number (exclusive). The keyword argument `replace` determines whether this selection is sampled with our witout replacement."
   ]
  },
  {
   "cell_type": "code",
   "execution_count": null,
   "metadata": {},
   "outputs": [],
   "source": [
    "RNG.choice(10, size=10)"
   ]
  },
  {
   "cell_type": "code",
   "execution_count": null,
   "metadata": {},
   "outputs": [],
   "source": [
    "RNG.choice(10, size=10, replace=False)"
   ]
  },
  {
   "attachments": {},
   "cell_type": "markdown",
   "metadata": {},
   "source": [
    "Another important random number generator method is [`multivariate_normal`](https://numpy.org/doc/stable/reference/random/generated/numpy.random.multivariate_normal.html), which can be used to sample data from a [multivariate normal distribtion](https://en.wikipedia.org/wiki/Multivariate_normal_distribution).\n",
    "\n",
    "### Task B: Sample from Multivariate Normal\n",
    "\n",
    "**Complete the line below to sample 20 data points from a 2-dimensional multivariate normal distribution with the following mean vector and covariance matrix:**\n",
    "\n",
    "\\begin{equation*}\n",
    "\\boldsymbol{\\mu} =\n",
    "\\begin{pmatrix}\n",
    "0\\\\\n",
    "0\n",
    "\\end{pmatrix}\n",
    "\\qquad\n",
    "\\boldsymbol{\\Sigma} =\n",
    "\\begin{pmatrix}\n",
    "1.0 & 0.7\\\\\n",
    "0.7 & 1.0\n",
    "\\end{pmatrix}\n",
    "\\end{equation*}"
   ]
  },
  {
   "cell_type": "code",
   "execution_count": null,
   "metadata": {},
   "outputs": [],
   "source": [
    "\n",
    "cov = np.array([[1.0, 0.7], [0.7, 1.0]])\n",
    "x = # YOUR CODE HERE \n",
    "x"
   ]
  },
  {
   "attachments": {},
   "cell_type": "markdown",
   "metadata": {},
   "source": [
    "## Selecting Portions of an Array\n",
    "\n",
    "Once we have an array at hand, we can manipulate it various ways, most importantly via [indexing and slicing](https://numpy.org/devdocs/user/absolute_beginners.html#indexing-and-slicing).\n",
    "\n",
    "#### Task C: Select Columns\n",
    "\n",
    "**Refer to the above section of the tutorial to select the two individual columns of our `x`-array and store them into the variables `x0` and `x1`.**\n",
    "\n",
    "Once you have completed the code below you can run it to plot the `x`-array in a scatter plot with `matplotlib`."
   ]
  },
  {
   "cell_type": "code",
   "execution_count": null,
   "metadata": {},
   "outputs": [],
   "source": [
    "from matplotlib import pyplot as plt\n",
    "\n",
    "plt.figure(figsize=(5, 5))\n",
    "x0 = # YOUR CODE HERE \n",
    "x1 = # YOUR CODE HERE \n",
    "plt.scatter(x0, x1, edgecolors='black')\n",
    "plt.xlim(-2.5, 2.5)\n",
    "plt.ylim(-2.5, 2.5)\n",
    "plt.xlabel('$x_1$')\n",
    "plt.ylabel('$x_2$')\n",
    "plt.show()"
   ]
  },
  {
   "attachments": {},
   "cell_type": "markdown",
   "metadata": {},
   "source": [
    "You might have already discovered that you can use binary operations like `+`, `-`, and so on on arrays with matching dimensionality to create new arrays (resulting from carrying out the operation element-wise).\n",
    "\n",
    "For example:"
   ]
  },
  {
   "cell_type": "code",
   "execution_count": null,
   "metadata": {},
   "outputs": [],
   "source": [
    "np.array([1, 2, 3]) + np.array([4, 5, 6])"
   ]
  },
  {
   "cell_type": "code",
   "execution_count": null,
   "metadata": {},
   "outputs": [],
   "source": [
    "np.array([1, 2, 3]) * np.array([4, 5, 6])"
   ]
  },
  {
   "attachments": {},
   "cell_type": "markdown",
   "metadata": {},
   "source": [
    "Interestingly, we can also combine operands of different shape. There are relatively complex rules for the validity of such expressions (the keyword here is [broadcasting](https://numpy.org/devdocs/user/absolute_beginners.html#broadcasting)), but in the simplest and most important case, we use a single value as one of the operands, which is then conceptually replicated to create an array that matches the shape of the other operand.\n",
    "\n",
    "For example:"
   ]
  },
  {
   "cell_type": "code",
   "execution_count": null,
   "metadata": {},
   "outputs": [],
   "source": [
    "np.array([2, 3, 4]) + 5"
   ]
  },
  {
   "cell_type": "code",
   "execution_count": null,
   "metadata": {},
   "outputs": [],
   "source": [
    "np.eye(3) + 1"
   ]
  },
  {
   "cell_type": "code",
   "execution_count": null,
   "metadata": {},
   "outputs": [],
   "source": [
    "-1*np.arange(4)"
   ]
  },
  {
   "attachments": {},
   "cell_type": "markdown",
   "metadata": {},
   "source": [
    "Importantly, this extends to logical operators. For instance, in the next cell we are creating a boolean array that contains true at all positions where the other operand has an entry of at least `4`."
   ]
  },
  {
   "cell_type": "code",
   "execution_count": null,
   "metadata": {},
   "outputs": [],
   "source": [
    "np.arange(8) >= 4"
   ]
  },
  {
   "cell_type": "code",
   "execution_count": null,
   "metadata": {},
   "outputs": [],
   "source": [
    "(np.arange(12) % 3) == 0"
   ]
  },
  {
   "attachments": {},
   "cell_type": "markdown",
   "metadata": {},
   "source": [
    "With the logical \"and\" and \"or\" operators, `&` and `|`, we can use this concept to describe the results of complex Boolean conditions.\n",
    "\n",
    "#### Task D: Complex Boolean Expression\n",
    "\n",
    "**Write an expression that creates a Boolean numpy array with `True`-entries where the index is greater than $3$ and divisible by $2$ (and `False`) otherwise.**"
   ]
  },
  {
   "cell_type": "code",
   "execution_count": null,
   "metadata": {},
   "outputs": [],
   "source": [
    "# YOUR CODE HERE "
   ]
  },
  {
   "attachments": {},
   "cell_type": "markdown",
   "metadata": {},
   "source": [
    "Finally, we can combine these Boolean expressions with indexing to select portions of arrays that satisfy certain conditions.\n",
    "\n",
    "For instance below we select all columns of a matrix where the entry on row 1 is greater than the entry in row 0."
   ]
  },
  {
   "cell_type": "code",
   "execution_count": null,
   "metadata": {},
   "outputs": [],
   "source": [
    "a = np.array([[3, 2, 5], [1, 4, 6]])\n",
    "a"
   ]
  },
  {
   "cell_type": "code",
   "execution_count": null,
   "metadata": {},
   "outputs": [],
   "source": [
    "a[:, a[1, :] > a[0, :]]"
   ]
  },
  {
   "attachments": {},
   "cell_type": "markdown",
   "metadata": {},
   "source": [
    "### Task E: Select Data from Specific Quadrant\n",
    "\n",
    "**Complete the code below to plot in a different color the part of our previously generated data that is in the fourth quadrant, i.e., where $x_0 < 0$ and $x_1>0$.**"
   ]
  },
  {
   "cell_type": "code",
   "execution_count": null,
   "metadata": {},
   "outputs": [],
   "source": [
    "selected = # YOUR CODE HERE \n",
    "plt.figure(figsize=(5, 5))\n",
    "plt.scatter(x[~selected, 0], x[~selected, 1], edgecolors='black')\n",
    "plt.scatter(x[selected, 0], x[selected, 1], color='red', edgecolors='black')\n",
    "plt.xlim(-2.5, 2.5)\n",
    "plt.ylim(-2.5, 2.5)\n",
    "plt.xlabel('$x_1$')\n",
    "plt.ylabel('$x_2$')\n",
    "plt.show()"
   ]
  },
  {
   "attachments": {},
   "cell_type": "markdown",
   "metadata": {},
   "source": [
    "## Vectorised Computations\n",
    "\n",
    "The main advantage of `numpy` is that it allows us to specify \"vectorised\" computations, i.e., instead of computing results element by element by an explicit Python-loop, we can specify the desired outcome as vector operation. This usually results in a tremendous speed-up.\n",
    "\n",
    "To illustrate, let us consider the problem of computing the vector with maximum norm from a sample of multi-variate normal random vectors."
   ]
  },
  {
   "cell_type": "code",
   "execution_count": null,
   "metadata": {},
   "outputs": [],
   "source": [
    "x_large = RNG.multivariate_normal(mean=np.zeros(20), cov=np.eye(20), size=1000)\n",
    "x_large"
   ]
  },
  {
   "attachments": {},
   "cell_type": "markdown",
   "metadata": {},
   "source": [
    "Naively, we can find the norm of all rows as follows."
   ]
  },
  {
   "cell_type": "code",
   "execution_count": null,
   "metadata": {},
   "outputs": [],
   "source": [
    "def norms_naive(x):\n",
    "    n, p = x.shape\n",
    "    res = np.zeros(n)\n",
    "    for i in range(n):\n",
    "        for j in range(p):\n",
    "            res[i] += x[i, j]**2\n",
    "        res[i] = res[i]**0.5\n",
    "    return res\n",
    "\n",
    "norms1 = norms_naive(x_large)\n",
    "norms1\n"
   ]
  },
  {
   "cell_type": "code",
   "execution_count": null,
   "metadata": {},
   "outputs": [],
   "source": [
    "time1 = %timeit -o norms_naive(x_large)\n",
    "time1.average"
   ]
  },
  {
   "attachments": {},
   "cell_type": "markdown",
   "metadata": {},
   "source": [
    "#### Task F: Vectorise Norm Computation\n",
    "\n",
    "**Write a single expression that computes the norms of all rows of `x_large`.**\n",
    "\n",
    "Hint: Decompose the problem into three parts\n",
    "\n",
    "1. Compute a matrix that contains all the entries of `x_large` squared\n",
    "2. Compute a vector that contains all *row*-sums of the previous matrix (see [sum](https://numpy.org/doc/stable/reference/generated/numpy.sum.html) to learn how to sum along columns with the `axis`-parameter)\n",
    "3. Compute the element-wise square-root of all entries of the vector computed in step 2"
   ]
  },
  {
   "cell_type": "code",
   "execution_count": null,
   "metadata": {},
   "outputs": [],
   "source": [
    "norms2 = # YOUR CODE HERE \n",
    "np.allclose(norms1, norms2)"
   ]
  },
  {
   "attachments": {},
   "cell_type": "markdown",
   "metadata": {},
   "source": [
    "Repeat your code here to time it."
   ]
  },
  {
   "cell_type": "code",
   "execution_count": null,
   "metadata": {},
   "outputs": [],
   "source": [
    "time2 = %timeit -o # YOUR CODE HERE \n",
    "time2.average"
   ]
  },
  {
   "attachments": {},
   "cell_type": "markdown",
   "metadata": {},
   "source": [
    "Let us see how much slower the naive version is than the vectorised version to understand how crucial vectorisation is for efficient Python code:"
   ]
  },
  {
   "cell_type": "code",
   "execution_count": null,
   "metadata": {},
   "outputs": [],
   "source": [
    "time1.average/time2.average"
   ]
  },
  {
   "attachments": {},
   "cell_type": "markdown",
   "metadata": {},
   "source": [
    "Having computed all the norms, we can plot a histogram of them."
   ]
  },
  {
   "cell_type": "code",
   "execution_count": null,
   "metadata": {},
   "outputs": [],
   "source": [
    "plt.hist(norms1, density=True)\n",
    "plt.xlabel('$\\|x\\|$')\n",
    "plt.ylabel('$p(\\|x\\|)$')\n",
    "plt.show()"
   ]
  },
  {
   "attachments": {},
   "cell_type": "markdown",
   "metadata": {},
   "source": [
    "We see that the maximum norm has a value of around 7. We can use the following `numpy` functions to efficiently (i.e., without explicit Python loop) find the maximum value and the corresponding index of an array."
   ]
  },
  {
   "cell_type": "code",
   "execution_count": null,
   "metadata": {},
   "outputs": [],
   "source": [
    "np.max(norms1)"
   ]
  },
  {
   "cell_type": "code",
   "execution_count": null,
   "metadata": {},
   "outputs": [],
   "source": [
    "np.argmax(norms1)"
   ]
  }
 ],
 "metadata": {
  "kernelspec": {
   "display_name": "Python 3",
   "language": "python",
   "name": "python3"
  },
  "language_info": {
   "codemirror_mode": {
    "name": "ipython",
    "version": 3
   },
   "file_extension": ".py",
   "mimetype": "text/x-python",
   "name": "python",
   "nbconvert_exporter": "python",
   "pygments_lexer": "ipython3",
   "version": "3.9.10"
  },
  "orig_nbformat": 4,
  "vscode": {
   "interpreter": {
    "hash": "aee8b7b246df8f9039afb4144a1f6fd8d2ca17a180786b69acc140d282b71a49"
   }
  }
 },
 "nbformat": 4,
 "nbformat_minor": 2
}
