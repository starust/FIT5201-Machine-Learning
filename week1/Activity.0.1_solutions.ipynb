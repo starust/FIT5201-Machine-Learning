{
 "cells": [
  {
   "cell_type": "markdown",
   "metadata": {},
   "source": [
    "# Activity 0.1. Getting Started with `numpy`\n",
    "(last modified 27 Feb 2023)\n",
    "\n",
    "### Learning Outcomes\n",
    "\n",
    "In this activity we practice how to\n",
    "\n",
    "- create arrays objects in various ways including sampling random data with `numpy.random`\n",
    "- apply operations to arrays\n",
    "- select parts of an array via indexing\n",
    "- draw scatter plots `matplotlib`\n",
    "\n",
    "### Prerequisites\n",
    "\n",
    "- Python set up on your system to run Jupyter Notebooks and the libraries installed that are specified in `requirements.txt`\n",
    "- A first look at the numpy [tutorial](https://numpy.org/devdocs/user/absolute_beginners.html) (but we will point to relevant parts of the tutorials as we go)\n",
    "\n",
    "## Introduction\n",
    "\n",
    "In this unit we are mainly going to work with the following Python libraries:\n",
    "1. `numpy` for numerical computations\n",
    "2. `scipy` for some advanced scientific computing methods (not often)\n",
    "3. `matplotlib` for plotting data\n",
    "4. `scikit-learn` for machine learning tools\n",
    "\n",
    "These libraries build on each other (in the order listed) and the first three are often jointly referred to as \"the scipy-stack\". Those three are very important in the professional and academic practice of Python programming with `numpy` being the fundamental basis for writing efficient Python code. \n",
    "\n",
    "In this activity, we review the most important programming concepts with `numpy`.\n"
   ]
  },
  {
   "cell_type": "markdown",
   "metadata": {},
   "source": [
    "## Basic Array Creation, Shape, and Data Type\n",
    "\n"
   ]
  },
  {
   "cell_type": "markdown",
   "metadata": {},
   "source": [
    "The most central concepts of `numpy` are `array` objects, which represent a regular grid of values with some common type and an index structure to access those values ([what is an array](https://numpy.org/devdocs/user/absolute_beginners.html#what-is-an-array)).\n",
    "\n",
    "#### Task A: Create some Arrays \n",
    "\n",
    "**Work through [how to create a basic array](https://numpy.org/devdocs/user/absolute_beginners.html#how-to-create-a-basic-array) by trying out code in the cell below we already added the line to import the `numpy` module into our namespace. This is typically done by the following line, which makes all numpy types and functions available with the prefix `np`.**"
   ]
  },
  {
   "cell_type": "code",
   "execution_count": 1,
   "metadata": {},
   "outputs": [],
   "source": [
    "import numpy as np"
   ]
  },
  {
   "cell_type": "markdown",
   "metadata": {},
   "source": [
    "You should now be familiar with the most elementary way to create a `numpy` array, i.e., via calling `numpy.array` directly with a nested Python iterable that describes the data of the array as in the following two examples."
   ]
  },
  {
   "cell_type": "code",
   "execution_count": 2,
   "metadata": {},
   "outputs": [
    {
     "data": {
      "text/plain": [
       "array([3, 1, 5])"
      ]
     },
     "execution_count": 2,
     "metadata": {},
     "output_type": "execute_result"
    }
   ],
   "source": [
    "np.array([3, 1, 5])"
   ]
  },
  {
   "cell_type": "code",
   "execution_count": 3,
   "metadata": {},
   "outputs": [
    {
     "data": {
      "text/plain": [
       "array([[3, 1, 5],\n",
       "       [1, 9, 2]])"
      ]
     },
     "execution_count": 3,
     "metadata": {},
     "output_type": "execute_result"
    }
   ],
   "source": [
    "np.array([[3, 1, 5], \n",
    "          [1, 9, 2]])"
   ]
  },
  {
   "cell_type": "markdown",
   "metadata": {},
   "source": [
    "Some other important ways to arrays are the functions\n",
    "\n",
    "- `arange` that creates arrays with consecutve integers (similar to the Python built-in function `range`)\n",
    "- `zeros` that creates an array with all zero-entries of the specified type and shape\n",
    "- `ones` that creats an array with all one-entries of the specified type and shape\n",
    "- `eye` which creates an array representing the unit matrix of desired dimensionality `p`, i.e., an array of shape `(p, p)` with `1`-entries on the diagonal and `0`-entries elsewhere. Also here the type can be varied."
   ]
  },
  {
   "cell_type": "code",
   "execution_count": 4,
   "metadata": {},
   "outputs": [
    {
     "data": {
      "text/plain": [
       "array([0, 1, 2, 3, 4, 5, 6, 7])"
      ]
     },
     "execution_count": 4,
     "metadata": {},
     "output_type": "execute_result"
    }
   ],
   "source": [
    "np.arange(8)"
   ]
  },
  {
   "cell_type": "code",
   "execution_count": 5,
   "metadata": {},
   "outputs": [
    {
     "data": {
      "text/plain": [
       "array([0., 0., 0., 0.])"
      ]
     },
     "execution_count": 5,
     "metadata": {},
     "output_type": "execute_result"
    }
   ],
   "source": [
    "np.zeros(4)"
   ]
  },
  {
   "cell_type": "code",
   "execution_count": 6,
   "metadata": {},
   "outputs": [
    {
     "data": {
      "text/plain": [
       "array([[False, False],\n",
       "       [False, False],\n",
       "       [False, False],\n",
       "       [False, False],\n",
       "       [False, False]])"
      ]
     },
     "execution_count": 6,
     "metadata": {},
     "output_type": "execute_result"
    }
   ],
   "source": [
    "np.zeros(shape=(5, 2), dtype=bool)"
   ]
  },
  {
   "cell_type": "code",
   "execution_count": 7,
   "metadata": {},
   "outputs": [
    {
     "data": {
      "text/plain": [
       "array([1., 1., 1., 1., 1., 1.])"
      ]
     },
     "execution_count": 7,
     "metadata": {},
     "output_type": "execute_result"
    }
   ],
   "source": [
    "np.ones(6)"
   ]
  },
  {
   "cell_type": "code",
   "execution_count": 8,
   "metadata": {},
   "outputs": [
    {
     "data": {
      "text/plain": [
       "array([[1., 0., 0.],\n",
       "       [0., 1., 0.],\n",
       "       [0., 0., 1.]])"
      ]
     },
     "execution_count": 8,
     "metadata": {},
     "output_type": "execute_result"
    }
   ],
   "source": [
    "np.eye(3)"
   ]
  },
  {
   "cell_type": "code",
   "execution_count": 9,
   "metadata": {},
   "outputs": [
    {
     "data": {
      "text/plain": [
       "array([[1, 0, 0],\n",
       "       [0, 1, 0],\n",
       "       [0, 0, 1]])"
      ]
     },
     "execution_count": 9,
     "metadata": {},
     "output_type": "execute_result"
    }
   ],
   "source": [
    "np.eye(3, dtype=int)"
   ]
  },
  {
   "cell_type": "markdown",
   "metadata": {},
   "source": [
    "## Generating Random Data\n",
    "\n",
    "To test machine learning methods we will often generate some random data. A random number can be created with `numpy` via the function `numpy.random.default_rng` as in the cell below. We typically prodive a random seed in our activities to make the output of the subsequent cells deterministic/reproducible."
   ]
  },
  {
   "cell_type": "code",
   "execution_count": 10,
   "metadata": {},
   "outputs": [
    {
     "data": {
      "text/plain": [
       "0.6369616873214543"
      ]
     },
     "execution_count": 10,
     "metadata": {},
     "output_type": "execute_result"
    }
   ],
   "source": [
    "RNG = np.random.default_rng(seed=0)\n",
    "RNG.random()"
   ]
  },
  {
   "cell_type": "markdown",
   "metadata": {},
   "source": [
    "Besides the basic `random`-method, a random number generator has a number of much more convenient methods to generate random outcomes for different use cases.\n",
    "\n",
    "One important one is the `choice`-method, which generates a random selection of non-negative integers up to a maximum number (exclusive). The keyword argument `replace` determines whether this selection is sampled with our witout replacement."
   ]
  },
  {
   "cell_type": "code",
   "execution_count": 11,
   "metadata": {},
   "outputs": [
    {
     "data": {
      "text/plain": [
       "array([5, 2, 3, 0, 0, 0, 1, 8, 6, 9])"
      ]
     },
     "execution_count": 11,
     "metadata": {},
     "output_type": "execute_result"
    }
   ],
   "source": [
    "RNG.choice(10, size=10)"
   ]
  },
  {
   "cell_type": "code",
   "execution_count": 12,
   "metadata": {},
   "outputs": [
    {
     "data": {
      "text/plain": [
       "array([3, 1, 4, 7, 9, 5, 2, 0, 6, 8])"
      ]
     },
     "execution_count": 12,
     "metadata": {},
     "output_type": "execute_result"
    }
   ],
   "source": [
    "RNG.choice(10, size=10, replace=False)"
   ]
  },
  {
   "cell_type": "markdown",
   "metadata": {},
   "source": [
    "Another important random number generator method is [`multivariate_normal`](https://numpy.org/doc/stable/reference/random/generated/numpy.random.multivariate_normal.html), which can be used to sample data from a [multivariate normal distribtion](https://en.wikipedia.org/wiki/Multivariate_normal_distribution).\n",
    "\n",
    "### Task B: Sample from Multivariate Normal\n",
    "\n",
    "**Complete the line below to sample 20 data points from a 2-dimensional multivariate normal distribution with the following mean vector and covariance matrix:**\n",
    "\n",
    "\\begin{equation*}\n",
    "\\boldsymbol{\\mu} =\n",
    "\\begin{pmatrix}\n",
    "0\\\\\n",
    "0\n",
    "\\end{pmatrix}\n",
    "\\qquad\n",
    "\\boldsymbol{\\Sigma} =\n",
    "\\begin{pmatrix}\n",
    "1.0 & 0.7\\\\\n",
    "0.7 & 1.0\n",
    "\\end{pmatrix}\n",
    "\\end{equation*}"
   ]
  },
  {
   "cell_type": "code",
   "execution_count": 13,
   "metadata": {},
   "outputs": [
    {
     "data": {
      "text/plain": [
       "array([[ 0.88590774,  0.46432655],\n",
       "       [ 0.13219051,  0.45103816],\n",
       "       [-0.91136857, -1.0109311 ],\n",
       "       [-1.00218828, -1.51744586],\n",
       "       [-0.67398877,  0.02583622],\n",
       "       [ 0.20128097, -0.37463108],\n",
       "       [ 1.02706526,  0.67251236],\n",
       "       [ 0.18801357, -0.59403331],\n",
       "       [ 0.25451793,  0.13118277],\n",
       "       [-0.58177211, -0.41549787],\n",
       "       [-0.07441072, -0.58086418],\n",
       "       [-0.18413453,  0.42313026],\n",
       "       [-0.8892415 , -1.86450947],\n",
       "       [-1.91702406, -0.87451344],\n",
       "       [-0.82275674, -0.61791029],\n",
       "       [-0.27526645,  0.85411152],\n",
       "       [-2.50503905, -1.10949868],\n",
       "       [-1.3508786 , -1.07405292],\n",
       "       [ 1.11573981,  1.11228966],\n",
       "       [-0.10625974, -1.10422023]])"
      ]
     },
     "execution_count": 13,
     "metadata": {},
     "output_type": "execute_result"
    }
   ],
   "source": [
    "\n",
    "cov = np.array([[1.0, 0.7], [0.7, 1.0]])\n",
    "x = RNG.multivariate_normal(mean=np.zeros(2), cov=cov, size=20)\n",
    "x"
   ]
  },
  {
   "cell_type": "markdown",
   "metadata": {},
   "source": [
    "## Selecting Portions of an Array\n",
    "\n",
    "Once we have an array at hand, we can manipulate it various ways, most importantly via [indexing and slicing](https://numpy.org/devdocs/user/absolute_beginners.html#indexing-and-slicing).\n",
    "\n",
    "#### Task C: Select Columns\n",
    "\n",
    "**Refer to the above section of the tutorial to select the two individual columns of our `x`-array and store them into the variables `x0` and `x1`.**\n",
    "\n",
    "Once you have completed the code below you can run it to plot the `x`-array in a scatter plot with `matplotlib`."
   ]
  },
  {
   "cell_type": "code",
   "execution_count": 14,
   "metadata": {},
   "outputs": [
    {
     "data": {
      "image/png": "[encoded data removed]",
      "text/plain": [
       "<Figure size 360x360 with 1 Axes>"
      ]
     },
     "metadata": {
      "needs_background": "light"
     },
     "output_type": "display_data"
    }
   ],
   "source": [
    "from matplotlib import pyplot as plt\n",
    "\n",
    "plt.figure(figsize=(5, 5))\n",
    "x0 = x[:, 0]\n",
    "x1 = x[:, 1]\n",
    "plt.scatter(x0, x1, edgecolors='black')\n",
    "plt.xlim(-2.5, 2.5)\n",
    "plt.ylim(-2.5, 2.5)\n",
    "plt.xlabel('$x_1$')\n",
    "plt.ylabel('$x_2$')\n",
    "plt.show()"
   ]
  },
  {
   "cell_type": "markdown",
   "metadata": {},
   "source": [
    "You might have already discovered that you can use binary operations like `+`, `-`, and so on on arrays with matching dimensionality to create new arrays (resulting from carrying out the operation element-wise).\n",
    "\n",
    "For example:"
   ]
  },
  {
   "cell_type": "code",
   "execution_count": 15,
   "metadata": {},
   "outputs": [
    {
     "data": {
      "text/plain": [
       "array([5, 7, 9])"
      ]
     },
     "execution_count": 15,
     "metadata": {},
     "output_type": "execute_result"
    }
   ],
   "source": [
    "np.array([1, 2, 3]) + np.array([4, 5, 6])"
   ]
  },
  {
   "cell_type": "code",
   "execution_count": 16,
   "metadata": {},
   "outputs": [
    {
     "data": {
      "text/plain": [
       "array([ 4, 10, 18])"
      ]
     },
     "execution_count": 16,
     "metadata": {},
     "output_type": "execute_result"
    }
   ],
   "source": [
    "np.array([1, 2, 3]) * np.array([4, 5, 6])"
   ]
  },
  {
   "cell_type": "markdown",
   "metadata": {},
   "source": [
    "Interestingly, we can also combine operands of different shape. There are relatively complex rules for the validity of such expressions (the keyword here is [broadcasting](https://numpy.org/devdocs/user/absolute_beginners.html#broadcasting)), but in the simplest and most important case, we use a single value as one of the operands, which is then conceptually replicated to create an array that matches the shape of the other operand.\n",
    "\n",
    "For example:"
   ]
  },
  {
   "cell_type": "code",
   "execution_count": 17,
   "metadata": {},
   "outputs": [
    {
     "data": {
      "text/plain": [
       "array([7, 8, 9])"
      ]
     },
     "execution_count": 17,
     "metadata": {},
     "output_type": "execute_result"
    }
   ],
   "source": [
    "np.array([2, 3, 4]) + 5"
   ]
  },
  {
   "cell_type": "code",
   "execution_count": 18,
   "metadata": {},
   "outputs": [
    {
     "data": {
      "text/plain": [
       "array([[2., 1., 1.],\n",
       "       [1., 2., 1.],\n",
       "       [1., 1., 2.]])"
      ]
     },
     "execution_count": 18,
     "metadata": {},
     "output_type": "execute_result"
    }
   ],
   "source": [
    "np.eye(3) + 1"
   ]
  },
  {
   "cell_type": "code",
   "execution_count": 19,
   "metadata": {},
   "outputs": [
    {
     "data": {
      "text/plain": [
       "array([ 0, -1, -2, -3])"
      ]
     },
     "execution_count": 19,
     "metadata": {},
     "output_type": "execute_result"
    }
   ],
   "source": [
    "-1*np.arange(4)"
   ]
  },
  {
   "cell_type": "markdown",
   "metadata": {},
   "source": [
    "Importantly, this extends to logical operators. For instance, in the next cell we are creating a boolean array that contains true at all positions where the other operand has an entry of at least `4`."
   ]
  },
  {
   "cell_type": "code",
   "execution_count": 20,
   "metadata": {},
   "outputs": [
    {
     "data": {
      "text/plain": [
       "array([False, False, False, False,  True,  True,  True,  True])"
      ]
     },
     "execution_count": 20,
     "metadata": {},
     "output_type": "execute_result"
    }
   ],
   "source": [
    "np.arange(8) >= 4"
   ]
  },
  {
   "cell_type": "code",
   "execution_count": 21,
   "metadata": {},
   "outputs": [
    {
     "data": {
      "text/plain": [
       "array([ True, False, False,  True, False, False,  True, False, False,\n",
       "        True, False, False])"
      ]
     },
     "execution_count": 21,
     "metadata": {},
     "output_type": "execute_result"
    }
   ],
   "source": [
    "(np.arange(12) % 3) == 0"
   ]
  },
  {
   "cell_type": "markdown",
   "metadata": {},
   "source": [
    "With the logical \"and\" and \"or\" operators, `&` and `|`, we can use this concept to describe the results of complex Boolean conditions.\n",
    "\n",
    "#### Task D: Complex Boolean Expression\n",
    "\n",
    "**Write an expression that creates a Boolean numpy array with `True`-entries where the index is greater than $3$ and divisible by $2$ (and `False`) otherwise.**"
   ]
  },
  {
   "cell_type": "code",
   "execution_count": 22,
   "metadata": {},
   "outputs": [
    {
     "data": {
      "text/plain": [
       "array([False, False, False, False,  True, False,  True, False])"
      ]
     },
     "execution_count": 22,
     "metadata": {},
     "output_type": "execute_result"
    }
   ],
   "source": [
    "(np.arange(8) > 3) & (np.arange(8) % 2 == 0)"
   ]
  },
  {
   "cell_type": "markdown",
   "metadata": {},
   "source": [
    "Finally, we can combine these Boolean expressions with indexing to select portions of arrays that satisfy certain conditions.\n",
    "\n",
    "For instance below we select all columns of a matrix where the entry on row 1 is greater than the entry in row 0."
   ]
  },
  {
   "cell_type": "code",
   "execution_count": 23,
   "metadata": {},
   "outputs": [
    {
     "data": {
      "text/plain": [
       "array([[3, 2, 5],\n",
       "       [1, 4, 6]])"
      ]
     },
     "execution_count": 23,
     "metadata": {},
     "output_type": "execute_result"
    }
   ],
   "source": [
    "a = np.array([[3, 2, 5], [1, 4, 6]])\n",
    "a"
   ]
  },
  {
   "cell_type": "code",
   "execution_count": 24,
   "metadata": {},
   "outputs": [
    {
     "data": {
      "text/plain": [
       "array([[2, 5],\n",
       "       [4, 6]])"
      ]
     },
     "execution_count": 24,
     "metadata": {},
     "output_type": "execute_result"
    }
   ],
   "source": [
    "a[:, a[1, :] > a[0, :]]"
   ]
  },
  {
   "cell_type": "markdown",
   "metadata": {},
   "source": [
    "### Task E: Select Data from Specific Quadrant\n",
    "\n",
    "**Complete the code below to plot in a different color the part of our previously generated data that is in the fourth quadrant, i.e., where $x_0 < 0$ and $x_1>0$.**"
   ]
  },
  {
   "cell_type": "code",
   "execution_count": 25,
   "metadata": {},
   "outputs": [
    {
     "data": {
      "image/png": "[encoded data removed]",
      "text/plain": [
       "<Figure size 360x360 with 1 Axes>"
      ]
     },
     "metadata": {
      "needs_background": "light"
     },
     "output_type": "display_data"
    }
   ],
   "source": [
    "selected = (x[:, 0] < 0) & (x[:, 1] > 0)\n",
    "plt.figure(figsize=(5, 5))\n",
    "plt.scatter(x[~selected, 0], x[~selected, 1], edgecolors='black')\n",
    "plt.scatter(x[selected, 0], x[selected, 1], color='red', edgecolors='black')\n",
    "plt.xlim(-2.5, 2.5)\n",
    "plt.ylim(-2.5, 2.5)\n",
    "plt.xlabel('$x_1$')\n",
    "plt.ylabel('$x_2$')\n",
    "plt.show()"
   ]
  },
  {
   "cell_type": "markdown",
   "metadata": {},
   "source": [
    "## Vectorised Computations\n",
    "\n",
    "The main advantage of `numpy` is that it allows us to specify \"vectorised\" computations, i.e., instead of computing results element by element by an explicit Python-loop, we can specify the desired outcome as vector operation. This usually results in a tremendous speed-up.\n",
    "\n",
    "To illustrate, let us consider the problem of computing the vector with maximum norm from a sample of multi-variate normal random vectors."
   ]
  },
  {
   "cell_type": "code",
   "execution_count": 26,
   "metadata": {},
   "outputs": [
    {
     "data": {
      "text/plain": [
       "array([[ 0.39512206,  0.42986369,  0.69604272, ...,  1.00396158,\n",
       "        -0.61790704,  1.82201136],\n",
       "       [-1.32043097, -0.66152802,  0.93504999, ..., -0.43278585,\n",
       "        -0.73548329,  0.24978537],\n",
       "       [ 1.03145308,  0.16100958, -0.58552882, ..., -0.07570153,\n",
       "         0.2021144 ,  0.69417194],\n",
       "       ...,\n",
       "       [-0.89865222, -0.11607746, -1.31834691, ...,  0.08384801,\n",
       "        -0.33206482, -0.39486074],\n",
       "       [ 0.22691045,  0.34131217,  0.57444459, ...,  0.57041153,\n",
       "         0.20591619,  0.35066407],\n",
       "       [ 0.3492841 ,  0.35742917,  0.82431228, ..., -0.50484404,\n",
       "         1.40517152,  1.50986329]])"
      ]
     },
     "execution_count": 26,
     "metadata": {},
     "output_type": "execute_result"
    }
   ],
   "source": [
    "x_large = RNG.multivariate_normal(mean=np.zeros(20), cov=np.eye(20), size=1000)\n",
    "x_large"
   ]
  },
  {
   "cell_type": "markdown",
   "metadata": {},
   "source": [
    "Naively, we can find the norm of all rows as follows."
   ]
  },
  {
   "cell_type": "code",
   "execution_count": 27,
   "metadata": {},
   "outputs": [
    {
     "data": {
      "text/plain": [
       "array([4.72838497, 4.43340805, 4.12263609, 3.96071222, 4.3362351 ,\n",
       "       4.66099305, 4.28035372, 4.49746586, 5.32185485, 5.76640611,\n",
       "       5.00669107, 4.6866112 , 4.88995765, 2.84587981, 4.89517419,\n",
       "       3.9992744 , 3.49094277, 5.21616845, 4.58663257, 4.04807267,\n",
       "       4.77855678, 5.29719603, 4.02082984, 4.83381844, 3.80665239,\n",
       "       3.8895217 , 3.66475734, 4.26595426, 5.13446435, 4.41532823,\n",
       "       4.31194744, 4.41610216, 3.85196199, 4.21494267, 5.12498678,\n",
       "       4.82171402, 4.68288866, 3.26423677, 2.993208  , 3.43257314,\n",
       "       3.698656  , 3.00967212, 4.07732073, 4.11608697, 4.84279232,\n",
       "       4.34109871, 4.82007089, 3.56065096, 3.91073187, 5.06055513,\n",
       "       5.5365354 , 5.46217773, 4.16558625, 3.40726667, 3.56146527,\n",
       "       4.66864579, 4.30684521, 4.02125676, 4.7482965 , 4.93597865,\n",
       "       4.84543735, 4.68715223, 4.23285931, 4.54171753, 5.16240161,\n",
       "       5.12115728, 4.95272172, 4.35467544, 4.61508882, 4.1345453 ,\n",
       "       4.95512679, 3.18843911, 3.84618512, 4.23263716, 3.56930154,\n",
       "       4.63255268, 5.06669902, 4.9622029 , 5.18585174, 5.34542795,\n",
       "       4.99377835, 4.87204316, 4.84371672, 4.53818818, 3.08466129,\n",
       "       5.04966489, 4.25788916, 6.00135366, 3.53886488, 4.04439435,\n",
       "       4.05973103, 5.19892257, 4.17808164, 5.00898312, 4.80328158,\n",
       "       4.63141652, 4.44096914, 4.75522007, 4.78892534, 4.12262843,\n",
       "       3.94403926, 4.52029774, 4.81483362, 4.355905  , 4.03061135,\n",
       "       4.4737637 , 4.63023697, 5.06912577, 4.99096988, 4.6602654 ,\n",
       "       5.19057769, 4.00069351, 3.61421532, 3.78225948, 4.84516256,\n",
       "       4.15151953, 5.04812789, 4.24919999, 3.50955973, 4.21927855,\n",
       "       3.79102885, 4.38423245, 4.34817038, 4.27123535, 4.1020268 ,\n",
       "       5.62727564, 3.88623499, 4.00030949, 5.64170821, 3.75035102,\n",
       "       3.92688763, 4.1181782 , 3.97814759, 5.02687579, 5.32223646,\n",
       "       2.44152045, 4.49941675, 3.10819051, 4.48297927, 5.00986136,\n",
       "       4.61532221, 5.00697967, 3.88951277, 4.34526825, 2.97441421,\n",
       "       3.56095671, 5.01001224, 5.2057468 , 5.7540733 , 4.84777283,\n",
       "       4.26247524, 5.55490209, 5.68205602, 4.49592782, 5.12416164,\n",
       "       4.60586873, 3.85391912, 4.87948006, 2.91768259, 4.83122322,\n",
       "       5.18941994, 4.55444322, 3.76558804, 5.86282286, 4.94191256,\n",
       "       3.73693808, 5.72272171, 4.49248584, 5.12365963, 3.2746458 ,\n",
       "       4.55704101, 3.51276746, 3.56376153, 3.96584706, 3.8869265 ,\n",
       "       3.55413464, 4.03070862, 4.09627084, 4.71713369, 4.62896345,\n",
       "       2.93522519, 4.71303746, 3.04707764, 3.90704502, 4.3109045 ,\n",
       "       4.27938855, 4.38437216, 5.15528935, 5.60686933, 4.96090434,\n",
       "       4.35503482, 4.35344343, 4.1414195 , 4.35904581, 4.46539375,\n",
       "       5.00878358, 4.57167983, 3.77228451, 5.15297204, 4.81528724,\n",
       "       3.64868858, 3.64090974, 4.28692789, 4.12038262, 4.74531838,\n",
       "       5.09570189, 3.98651961, 3.72251092, 5.11293362, 5.13842786,\n",
       "       4.75633778, 4.49571346, 5.38548625, 4.13257681, 3.7906373 ,\n",
       "       4.55152136, 3.95849765, 4.57069212, 5.13595446, 3.46275685,\n",
       "       4.35077637, 5.06081156, 5.06960483, 4.93873481, 4.73091502,\n",
       "       4.2916593 , 3.75427144, 3.72411221, 4.5760627 , 3.98169036,\n",
       "       4.24232094, 3.89273537, 3.53113472, 4.63198627, 4.00015683,\n",
       "       3.17824152, 4.76599343, 4.80367579, 4.12505448, 4.1894078 ,\n",
       "       3.47521621, 4.55280109, 4.22791845, 4.16495924, 4.63738684,\n",
       "       4.66199534, 4.82274501, 4.41886225, 4.76722017, 4.26831704,\n",
       "       5.21762396, 3.97207571, 4.78383438, 5.04494261, 4.876986  ,\n",
       "       3.96461153, 4.5181394 , 5.47114153, 4.22013261, 4.39997509,\n",
       "       4.14872236, 3.41309859, 3.96450615, 4.07930035, 5.52382607,\n",
       "       3.51561186, 5.33482162, 3.46566532, 5.63245936, 3.73082088,\n",
       "       4.7704393 , 3.71081645, 5.65122309, 3.46347056, 3.87903002,\n",
       "       3.53941772, 4.62112666, 3.48524086, 4.56280293, 4.94203517,\n",
       "       3.09947515, 3.8185817 , 5.26741259, 4.19872815, 5.57862233,\n",
       "       3.48947304, 4.35429421, 4.16268485, 4.03902126, 3.93730396,\n",
       "       5.01175569, 4.93574605, 5.58193358, 4.35289078, 5.06458931,\n",
       "       4.68553462, 3.6333804 , 3.33350456, 5.16068915, 4.29215811,\n",
       "       4.59487567, 5.05780636, 3.34404672, 3.76726675, 6.1390263 ,\n",
       "       3.22318746, 4.76814343, 3.4486505 , 5.61829928, 5.27620816,\n",
       "       4.2851473 , 3.84631465, 4.30502696, 4.01107475, 4.14922078,\n",
       "       4.79534335, 3.94478905, 4.66688316, 4.0567958 , 3.72701176,\n",
       "       5.17293515, 5.03270221, 4.1502206 , 3.80671531, 4.71487143,\n",
       "       5.08591359, 5.19659094, 3.7954165 , 3.8642434 , 5.235017  ,\n",
       "       4.58363042, 4.89548867, 3.84080256, 4.54085589, 4.13944543,\n",
       "       4.75607667, 4.36288686, 5.6123959 , 5.94813962, 4.57270697,\n",
       "       3.35726137, 4.28871587, 4.17655337, 5.15285977, 4.40564272,\n",
       "       4.91406595, 5.22889194, 4.57811812, 4.68715699, 3.60277275,\n",
       "       4.01936447, 5.37651793, 3.90206514, 5.19896975, 4.07595745,\n",
       "       5.63556838, 4.75830733, 4.14399017, 3.95793105, 4.50283605,\n",
       "       4.05985074, 4.01494786, 5.84754504, 4.31282334, 4.6615576 ,\n",
       "       4.97732894, 5.14600605, 5.84000579, 3.31266218, 4.24543149,\n",
       "       4.57056511, 3.40240886, 3.7390335 , 4.34898598, 5.9706022 ,\n",
       "       4.3635206 , 5.04564589, 4.60385181, 4.6937489 , 4.39502289,\n",
       "       4.35933828, 4.19487084, 3.83918327, 4.09855817, 5.53598764,\n",
       "       5.03985834, 5.0740739 , 4.5457935 , 3.13923417, 4.21084309,\n",
       "       4.81115145, 4.14194336, 4.61298503, 5.05353424, 4.51412092,\n",
       "       5.32544801, 5.33291268, 4.45525784, 3.51669908, 4.2856279 ,\n",
       "       3.75739355, 3.93929222, 4.28708048, 4.78203709, 3.93077971,\n",
       "       3.88833721, 3.93004987, 4.80779968, 3.44345207, 5.556095  ,\n",
       "       3.39537968, 5.32767052, 3.45720591, 6.07145692, 5.20390546,\n",
       "       3.21513962, 5.173124  , 5.35561148, 4.9584695 , 3.97852816,\n",
       "       4.83662828, 5.02664994, 3.91368245, 3.90983054, 4.7617587 ,\n",
       "       4.48152691, 4.27181571, 4.7580925 , 4.66011387, 4.13115138,\n",
       "       4.22701162, 4.99021845, 4.75201758, 3.02683797, 3.66811083,\n",
       "       4.61709652, 4.35842208, 3.96463641, 2.9218295 , 4.32068556,\n",
       "       4.4394229 , 3.77144988, 4.78210098, 4.57052957, 4.20458286,\n",
       "       3.62472761, 4.48835875, 4.83540406, 5.12245511, 4.57315746,\n",
       "       4.43849236, 4.68416837, 4.73032089, 5.29367669, 4.74554158,\n",
       "       3.69024364, 5.58637772, 3.61526653, 3.77604681, 3.67111663,\n",
       "       3.83157   , 4.88876986, 3.89763343, 4.69950436, 5.34495752,\n",
       "       4.46146363, 4.24417929, 3.86077913, 4.07971491, 4.56728827,\n",
       "       6.3775528 , 4.82084   , 3.29800639, 3.38953883, 3.60823082,\n",
       "       3.91042074, 4.35303744, 4.58801368, 4.01672408, 4.70259077,\n",
       "       4.73524644, 3.79528048, 4.79086295, 4.24431513, 4.35956757,\n",
       "       3.88769702, 2.63204447, 5.26928373, 4.64455702, 4.14286276,\n",
       "       4.71806546, 5.01424144, 4.79451427, 4.31323492, 3.2484749 ,\n",
       "       2.92852085, 3.02298378, 5.05335659, 3.74490802, 4.53969968,\n",
       "       3.65897965, 4.36581183, 6.05073515, 3.51044766, 4.7084876 ,\n",
       "       3.76144407, 4.20149868, 5.19226116, 3.97844587, 5.66074986,\n",
       "       5.56340794, 4.09839605, 4.78331335, 5.68442979, 3.9657364 ,\n",
       "       3.95013293, 4.39329359, 4.94854374, 4.13752669, 4.16925577,\n",
       "       5.5866691 , 6.35856862, 4.69184291, 2.99272267, 4.9029363 ,\n",
       "       4.41096351, 4.03933994, 5.14212956, 3.69618156, 3.36972036,\n",
       "       3.99054471, 5.16195252, 4.38151152, 4.37999305, 3.71160572,\n",
       "       5.48339386, 4.22834458, 4.01903749, 4.13689739, 3.82691281,\n",
       "       5.19851164, 4.1099489 , 3.98142093, 3.76397602, 3.71535606,\n",
       "       4.83371235, 3.40713459, 4.19466805, 4.86636075, 4.17797877,\n",
       "       4.86844366, 4.00689488, 4.21714279, 3.50216957, 4.69597405,\n",
       "       3.91924219, 5.16651646, 3.59457592, 4.42930167, 5.78282525,\n",
       "       4.64656619, 4.69124514, 4.63610618, 4.23803101, 3.49934558,\n",
       "       4.20362964, 3.07033958, 6.17811748, 4.49170151, 5.30366811,\n",
       "       3.60056547, 5.01318643, 5.26070867, 4.68806623, 4.79181792,\n",
       "       3.4146905 , 3.76937216, 4.13086471, 3.75364411, 3.78275246,\n",
       "       4.54235627, 4.17389436, 3.48214255, 5.26338874, 5.15931974,\n",
       "       5.90446814, 5.09291102, 3.32850003, 4.40314496, 4.30468395,\n",
       "       4.9729372 , 4.40820409, 4.86574439, 4.55656471, 3.86316064,\n",
       "       3.76997134, 5.1934999 , 4.2466662 , 4.37561026, 3.15208856,\n",
       "       3.83033671, 4.12388344, 4.02944214, 4.56393374, 4.79634703,\n",
       "       5.4430012 , 3.49736984, 3.51513063, 3.74162953, 3.52633269,\n",
       "       4.73074947, 4.76352756, 3.28977614, 4.83014801, 3.49808725,\n",
       "       3.04578668, 5.3954878 , 3.16847983, 4.06282231, 5.15876625,\n",
       "       3.36822687, 3.77993455, 4.50877804, 5.5551365 , 5.26740512,\n",
       "       3.46332695, 4.70685332, 4.54814611, 4.8899678 , 3.84134339,\n",
       "       4.31424995, 4.17414643, 4.53984728, 4.27842168, 3.35832346,\n",
       "       3.9760964 , 4.21324467, 4.21271327, 5.06066709, 3.43312373,\n",
       "       4.85908629, 5.11393429, 4.3874963 , 4.97505702, 4.42332274,\n",
       "       5.12167362, 5.62950013, 3.77220111, 3.16222462, 3.73735649,\n",
       "       4.62037422, 4.58229941, 5.17131409, 4.61059336, 5.43738005,\n",
       "       3.73128175, 3.53769457, 3.73169698, 3.07812891, 5.93870879,\n",
       "       3.95094996, 4.6918319 , 3.6524349 , 5.8163686 , 4.26121079,\n",
       "       4.7185395 , 4.774244  , 3.70443944, 4.23998063, 6.03337695,\n",
       "       3.87671891, 4.82809492, 4.54780983, 4.74482145, 4.3572468 ,\n",
       "       4.89896302, 3.76136925, 5.77484054, 3.86307867, 5.2641837 ,\n",
       "       6.12985754, 4.42127661, 4.90901208, 4.21722208, 4.50041523,\n",
       "       4.39526478, 4.57259715, 4.36173434, 4.55959836, 5.22558548,\n",
       "       4.20023991, 3.35537865, 5.07442531, 4.73343209, 3.31636131,\n",
       "       4.76370751, 3.19257985, 3.53168165, 5.65680327, 3.58597307,\n",
       "       3.87953128, 4.96940647, 5.25847163, 5.12266842, 4.30473944,\n",
       "       3.71782632, 4.07192122, 4.12336686, 4.22006718, 4.14564653,\n",
       "       4.28442352, 3.71918004, 3.87778225, 4.9416753 , 3.8310177 ,\n",
       "       3.62978019, 4.07215021, 5.1712822 , 5.9983649 , 3.87421223,\n",
       "       4.20571991, 4.89900878, 5.85081252, 4.75172399, 3.85630274,\n",
       "       5.03141467, 4.9944489 , 4.33927857, 4.16656103, 3.55413345,\n",
       "       4.56106239, 3.80207189, 4.35225446, 5.36567828, 5.21299722,\n",
       "       4.44776965, 5.09003552, 4.35938171, 3.88845416, 4.62681344,\n",
       "       5.53937057, 4.46046536, 4.74274235, 5.77971626, 3.20786591,\n",
       "       4.48392416, 5.06972671, 3.7348895 , 4.73530757, 5.53108509,\n",
       "       3.91672335, 4.40467741, 3.69621957, 3.78000561, 4.39484263,\n",
       "       4.863536  , 3.8097562 , 4.7304082 , 4.04041156, 3.96050578,\n",
       "       3.89561127, 4.35468492, 4.24461731, 3.47405941, 5.22928515,\n",
       "       4.35522058, 4.01375567, 4.72175145, 4.27861693, 4.09040566,\n",
       "       4.33839744, 3.53907117, 5.83995825, 3.91461867, 4.88757623,\n",
       "       4.34740256, 4.84481785, 4.05454074, 2.75944014, 4.34521302,\n",
       "       4.19595296, 4.32875199, 3.6937579 , 4.82288493, 4.03630965,\n",
       "       5.13847389, 4.07880238, 4.94622525, 4.28589986, 4.10641781,\n",
       "       5.02271312, 4.48783991, 4.12366025, 4.22096712, 4.10524321,\n",
       "       4.38921957, 3.23006041, 3.7891536 , 4.00373071, 4.02826715,\n",
       "       4.02850019, 4.1699699 , 4.13492755, 4.15488903, 4.10590347,\n",
       "       3.57260079, 4.61646499, 2.77489522, 5.7419473 , 3.26508728,\n",
       "       3.70016132, 5.16385141, 4.47373033, 4.64031111, 4.44274032,\n",
       "       4.06087669, 4.76103004, 3.80592651, 4.92819368, 3.84034818,\n",
       "       4.06727665, 4.39256923, 4.74622554, 5.88282265, 4.72204193,\n",
       "       3.82204133, 6.49340124, 4.14512921, 2.81723518, 4.0659024 ,\n",
       "       3.49936248, 4.80852062, 3.86932693, 4.52701222, 5.19917811,\n",
       "       3.79004361, 3.86203319, 3.22641265, 4.48525123, 4.753394  ,\n",
       "       3.86928769, 5.54725598, 5.22995349, 4.21063548, 4.48697873,\n",
       "       3.78410791, 3.29896197, 3.42431996, 4.9255331 , 5.3515293 ,\n",
       "       5.36802814, 5.60298137, 4.75668831, 4.99968289, 4.68705523,\n",
       "       4.75504314, 4.00838825, 3.98847048, 3.9406932 , 5.68882215,\n",
       "       3.65930548, 5.41322783, 3.96059006, 4.5147603 , 4.44186442,\n",
       "       4.32710713, 4.91272848, 4.06081927, 4.44945626, 3.39202781,\n",
       "       4.29853147, 5.09931477, 5.69051713, 4.16122205, 3.96259817,\n",
       "       5.20026482, 3.70462927, 4.53560651, 3.70765634, 3.89842771,\n",
       "       3.55557574, 4.67448981, 4.84425954, 4.64754629, 4.55702845,\n",
       "       2.75990872, 4.81783863, 4.43448788, 4.45845696, 4.36280615,\n",
       "       4.93082533, 4.81051114, 4.91244151, 3.85091708, 4.09312453,\n",
       "       4.57898614, 4.53170794, 4.84170111, 4.79224766, 3.99198957,\n",
       "       4.78815787, 4.98375656, 5.24789893, 4.15488276, 4.33918864,\n",
       "       3.72727101, 4.11547189, 4.46719429, 3.94971131, 4.47904897,\n",
       "       4.88641116, 4.99851837, 5.55945875, 3.69537469, 3.28539073,\n",
       "       4.99370235, 4.52666407, 4.66461619, 5.05941465, 3.27579826,\n",
       "       4.67053046, 3.90887791, 5.3115703 , 3.44858747, 5.05420701,\n",
       "       3.68983231, 4.67646704, 4.0012894 , 3.77346435, 5.03654369,\n",
       "       4.30060122, 4.56804275, 3.94275603, 4.97030987, 5.31574847,\n",
       "       3.39088751, 4.63352024, 4.11658447, 3.31135992, 4.02856501,\n",
       "       4.59294212, 3.66715219, 4.04269738, 3.76466348, 3.47106768,\n",
       "       4.67804281, 4.19782945, 5.32345177, 4.52611727, 3.54061619,\n",
       "       4.78754854, 3.83942115, 5.79759508, 3.56284217, 4.52497363,\n",
       "       4.19157035, 3.78917578, 4.17851646, 3.67643081, 5.66278287,\n",
       "       4.57756569, 4.96887014, 5.24322384, 4.15643917, 4.18899821,\n",
       "       3.46974001, 5.03231319, 4.39896221, 4.1177667 , 4.01327415,\n",
       "       4.08753467, 3.53620817, 4.16015161, 3.98679102, 2.76601383,\n",
       "       3.49482035, 5.3225818 , 5.14633314, 3.83376234, 3.46336969,\n",
       "       5.48354639, 5.05701555, 4.06057622, 4.74719862, 5.03225151,\n",
       "       4.58547122, 4.50866146, 5.58919745, 4.30312903, 5.12731482,\n",
       "       6.08203136, 4.57655225, 3.70494765, 3.74157527, 4.42653531,\n",
       "       3.27120499, 5.28340584, 3.54258385, 4.31049801, 3.80969472])"
      ]
     },
     "execution_count": 27,
     "metadata": {},
     "output_type": "execute_result"
    }
   ],
   "source": [
    "def norms_naive(x):\n",
    "    n, p = x.shape\n",
    "    res = np.zeros(n)\n",
    "    for i in range(n):\n",
    "        for j in range(p):\n",
    "            res[i] += x[i, j]**2\n",
    "        res[i] = res[i]**0.5\n",
    "    return res\n",
    "\n",
    "norms1 = norms_naive(x_large)\n",
    "norms1\n"
   ]
  },
  {
   "cell_type": "code",
   "execution_count": 28,
   "metadata": {},
   "outputs": [
    {
     "name": "stdout",
     "output_type": "stream",
     "text": [
      "12.8 ms ± 506 µs per loop (mean ± std. dev. of 7 runs, 100 loops each)\n"
     ]
    },
    {
     "data": {
      "text/plain": [
       "0.012840326651428568"
      ]
     },
     "execution_count": 28,
     "metadata": {},
     "output_type": "execute_result"
    }
   ],
   "source": [
    "time1 = %timeit -o norms_naive(x_large)\n",
    "time1.average"
   ]
  },
  {
   "cell_type": "markdown",
   "metadata": {},
   "source": [
    "#### Task F: Vectorise Norm Computation\n",
    "\n",
    "**Write a single expression that computes the norms of all rows of `x_large`.**\n",
    "\n",
    "Hint: Decompose the problem into three parts\n",
    "\n",
    "1. Compute a matrix that contains all the entries of `x_large` squared\n",
    "2. Compute a vector that contains all *row*-sums of the previous matrix (see [sum](https://numpy.org/doc/stable/reference/generated/numpy.sum.html) to learn how to sum along columns with the `axis`-parameter)\n",
    "3. Compute the element-wise square-root of all entries of the vector computed in step 2"
   ]
  },
  {
   "cell_type": "code",
   "execution_count": 29,
   "metadata": {},
   "outputs": [
    {
     "data": {
      "text/plain": [
       "True"
      ]
     },
     "execution_count": 29,
     "metadata": {},
     "output_type": "execute_result"
    }
   ],
   "source": [
    "norms2 = (x_large**2).sum(axis=1)**0.5\n",
    "np.allclose(norms1, norms2)"
   ]
  },
  {
   "cell_type": "code",
   "execution_count": 30,
   "metadata": {},
   "outputs": [
    {
     "name": "stdout",
     "output_type": "stream",
     "text": [
      "42.8 µs ± 2.86 µs per loop (mean ± std. dev. of 7 runs, 10,000 loops each)\n"
     ]
    },
    {
     "data": {
      "text/plain": [
       "4.28372903714286e-05"
      ]
     },
     "execution_count": 30,
     "metadata": {},
     "output_type": "execute_result"
    }
   ],
   "source": [
    "time2 = %timeit -o (x_large**2).sum(axis=1)**0.5\n",
    "time2.average"
   ]
  },
  {
   "cell_type": "markdown",
   "metadata": {},
   "source": [
    "Let us see how much slower the naive version is than the vectorised version to understand how crucial vectorisation is for efficient Python code:"
   ]
  },
  {
   "cell_type": "code",
   "execution_count": 31,
   "metadata": {},
   "outputs": [
    {
     "data": {
      "text/plain": [
       "299.7464718261626"
      ]
     },
     "execution_count": 31,
     "metadata": {},
     "output_type": "execute_result"
    }
   ],
   "source": [
    "time1.average/time2.average"
   ]
  },
  {
   "cell_type": "markdown",
   "metadata": {},
   "source": [
    "Having computed all the norms, we can plot a histogram of them."
   ]
  },
  {
   "cell_type": "code",
   "execution_count": 32,
   "metadata": {},
   "outputs": [
    {
     "data": {
      "image/png": "[encoded data removed]",
      "text/plain": [
       "<Figure size 432x288 with 1 Axes>"
      ]
     },
     "metadata": {
      "needs_background": "light"
     },
     "output_type": "display_data"
    }
   ],
   "source": [
    "plt.hist(norms1, density=True)\n",
    "plt.xlabel('$\\|x\\|$')\n",
    "plt.ylabel('$p(\\|x\\|)$')\n",
    "plt.show()"
   ]
  },
  {
   "cell_type": "markdown",
   "metadata": {},
   "source": [
    "We see that the maximum norm has a value of around 7. We can use the following `numpy` functions to efficiently (i.e., without explicit Python loop) find the maximum value and the corresponding index of an array."
   ]
  },
  {
   "cell_type": "code",
   "execution_count": 33,
   "metadata": {},
   "outputs": [
    {
     "data": {
      "text/plain": [
       "6.493401240957444"
      ]
     },
     "execution_count": 33,
     "metadata": {},
     "output_type": "execute_result"
    }
   ],
   "source": [
    "np.max(norms1)"
   ]
  },
  {
   "cell_type": "code",
   "execution_count": 34,
   "metadata": {},
   "outputs": [
    {
     "data": {
      "text/plain": [
       "826"
      ]
     },
     "execution_count": 34,
     "metadata": {},
     "output_type": "execute_result"
    }
   ],
   "source": [
    "np.argmax(norms1)"
   ]
  }
 ],
 "metadata": {
  "kernelspec": {
   "display_name": "Python 3 (ipykernel)",
   "language": "python",
   "name": "python3"
  },
  "language_info": {
   "codemirror_mode": {
    "name": "ipython",
    "version": 3
   },
   "file_extension": ".py",
   "mimetype": "text/x-python",
   "name": "python",
   "nbconvert_exporter": "python",
   "pygments_lexer": "ipython3",
   "version": "3.9.13"
  },
  "vscode": {
   "interpreter": {
    "hash": "aee8b7b246df8f9039afb4144a1f6fd8d2ca17a180786b69acc140d282b71a49"
   }
  }
 },
 "nbformat": 4,
 "nbformat_minor": 2
}
