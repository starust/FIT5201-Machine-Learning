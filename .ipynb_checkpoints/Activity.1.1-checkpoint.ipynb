{
 "cells": [
  {
   "cell_type": "markdown",
   "metadata": {},
   "source": [
    "#  Activity 1.1: $k$-Nearest Neighbour Classifier\n",
    "Last modified (11 Aug 2023)\n",
    "\n",
    "### Learning outcomes\n",
    "\n",
    "In this activity, we learn how to:\n",
    "\n",
    "- load and visualise an example dataset via `scikit-learn` and `matplotlib`\n",
    "- split a dataset into train and test set (using `numpy`)\n",
    "- use the `scikit-learn` conventions to call (and implement) a machine learning algorihtm\n",
    "- describe and implement the $k$-NN classifier \n",
    "- compute error rate and confusion matrix for prediction results\n",
    "- plot the effect of the hyper-parameter $k$ on train and test error (using `matplotlib`)\n",
    "\n",
    "### Prerequisites\n",
    "\n",
    "- Lecture 1\n",
    "- Basic Python and numpy\n",
    "\n",
    "## Introduction\n",
    "\n",
    "In this activity, we learn how <a href=\"https://saravananthirumuruganathan.wordpress.com/2010/05/17/a-detailed-introduction-to-k-nearest-neighbor-knn-algorithm/\">K-Nearest Neighbors (KNN)</a> classifier works, which we will use as a vehicle to practice some of the basic concepts of machine learning. KNN is a \"non-parametric\" model, which means that the number of estimated parameters grows with the number of training data points (as opposed to parametric models where the number of parameters is fixed based based on the dimensionality of the input data). \n",
    "\n",
    "In particular, KNN is an example of an <a href=\"https://en.wikipedia.org/wiki/Instance-based_learning\">instance-based</a> supervised learner and a <a href=\"https://en.wikipedia.org/wiki/Lazy_learning\">lazy learner</a> that stores all training data points and their labels in memory, and predict the class label for a new data point based on its similarity to the training data.\n",
    "The labels of the stored training data points are considered the parameters of the model.\n",
    "\n",
    "Consider a training dataset containing $(x_1,t_1), \\dots, (x_N,t_N)$ pairs where $x_N \\in \\mathbb{R}^p$ is the input and $t_N \\in \\mathcal{C}$ is the target class label. Given a test data point $x_0$, the $k$-nearest neighbour classifier works as follows:\n",
    "\n",
    "1. Select the $k$ data points from the training data that are *nearest* to $x_0$, where we assess closeness/distance by some distance measure, per default the usual Eucledian distance $\\|x_n-x_0\\|$\n",
    "2. Look at the label of the $k$ nearest neighbours and select the label which has the majority vote\n",
    "\n",
    "If the classes are equally common among the neighbours (e.g., two positive and two negative neighbours in binary classification when K=4), the test datapoint is randomly assigned to one of the classes. For example, Figure <strong>A.1</strong> (below) illustrates such situation where the test datapoint (shown by <span style=\"color: #00ff00;\">green</span>) has exactly two neighbours from each class (marked by <span style=\"color: #ff0000;\">red</span> and <span style=\"color: #3366ff;\">blue</span>).\n",
    "\n",
    "<a href=\"http://www.saedsayad.com/k_nearest_neighbors.htm\" rel=\"attachment wp-att-92100\"><img class=\"wp-image-92100 size-full\" src=\"http://www.saedsayad.com/images/KNN_example_1.png\" alt=\"Figure A.1: KNN for Classification. The green dot indicates a sample with an unknown class label, while red and blue samples are training observation from default and non-default classes, respectively. Source: http://www.saedsayad.com/k_nearest_neighbors.htm\" width=\"497\" height=\"274\" /></a> \n",
    "\n",
    "> Figure A.1: KNN for Classification. The green dot indicates a sample with an unknown class label, while red and blue samples are training observation from default and non-default classes, respectively. Source: http://www.saedsayad.com/k_nearest_neighbors.htm"
   ]
  },
  {
   "cell_type": "markdown",
   "metadata": {},
   "source": [
    "### Further Materials\n",
    "This short <a href=\"https://www.youtube.com/watch?v=UqYde-LULfs\">YouTube video</a> explains KNN and related concepts in a very simple language."
   ]
  },
  {
   "cell_type": "markdown",
   "metadata": {},
   "source": [
    "### Outline\n",
    "\n",
    "Here, we implement a basic KNN classifier. Note that in Assignment 1, you will be asked to expand this implementation and build a KNN regressor. In this task, we use a simple, yet very popular, dataset to investigate the performance of our KNN. \n",
    "\n",
    "- Load the iris dataset and divide it to separate training and testing sets,\n",
    "- Define a function that calculates the majority vote,\n",
    "- Define KNN function that takes training labeled samples, testing samples, $K$ and a distance metric and predicts the class labels for the testing samples,\n",
    "- Apply KNN where for some values of $K$ and report training and testing error\n",
    "- Plot training and testing error versus $1/K$ where $K \\in \\{1,\\cdots,100\\}$"
   ]
  },
  {
   "cell_type": "markdown",
   "metadata": {},
   "source": [
    "## Loading and Visualising the Data\n",
    "\n",
    "We will use `scikit-learn` to load an example dataset that is quite famous in machine learning and statistics: the [Iris flower dataset](https://en.wikipedia.org/wiki/Iris_flower_data_set) that has been published by the famous statistician Ronald Fisher in 1936. Then we will use `matplotlib` to visualise the data as two scatter plots, which is possible because the data only has four input variables.\n",
    "\n",
    "The example datasets in `scikit-learn` can be loaded via the functions in the module `sklearn.datasets` (see also [here](https://scikit-learn.org/stable/datasets.html)). Specifically, the functions return `bunch` objects that are dict-like objects containing among others the key/values:\n",
    "\n",
    "- `'data'`: the $n$-times-$p$ matrix of input (feature) values \n",
    "- `'target'`: the $n$-vector of labels (target values) coded numerically\n",
    "- `'feature_names`: the names of the input variables\n",
    "- `'target_names'`: the names of the target classes (corresponding to the numerical codes)"
   ]
  },
  {
   "cell_type": "code",
   "execution_count": 1,
   "metadata": {},
   "outputs": [
    {
     "data": {
      "text/plain": [
       "((150, 4),\n",
       " (150,),\n",
       " ['sepal length (cm)',\n",
       "  'sepal width (cm)',\n",
       "  'petal length (cm)',\n",
       "  'petal width (cm)'],\n",
       " array(['setosa', 'versicolor', 'virginica'], dtype='<U10'))"
      ]
     },
     "execution_count": 1,
     "metadata": {},
     "output_type": "execute_result"
    }
   ],
   "source": [
    "from sklearn.datasets import load_iris\n",
    "\n",
    "iris = load_iris()\n",
    "iris.data.shape, iris.target.shape, iris.feature_names, iris.target_names"
   ]
  },
  {
   "cell_type": "code",
   "execution_count": 2,
   "metadata": {},
   "outputs": [
    {
     "data": {
      "text/plain": [
       "array([[5.1, 3.5, 1.4, 0.2],\n",
       "       [4.9, 3. , 1.4, 0.2],\n",
       "       [4.7, 3.2, 1.3, 0.2],\n",
       "       [4.6, 3.1, 1.5, 0.2],\n",
       "       [5. , 3.6, 1.4, 0.2],\n",
       "       [5.4, 3.9, 1.7, 0.4],\n",
       "       [4.6, 3.4, 1.4, 0.3],\n",
       "       [5. , 3.4, 1.5, 0.2],\n",
       "       [4.4, 2.9, 1.4, 0.2],\n",
       "       [4.9, 3.1, 1.5, 0.1]])"
      ]
     },
     "execution_count": 2,
     "metadata": {},
     "output_type": "execute_result"
    }
   ],
   "source": [
    "iris.data[:10]"
   ]
  },
  {
   "cell_type": "code",
   "execution_count": 3,
   "metadata": {},
   "outputs": [
    {
     "data": {
      "text/plain": [
       "array([0, 0, 0, 0, 0, 0, 0, 0, 0, 0, 0, 0, 0, 0, 0, 0, 0, 0, 0, 0, 0, 0,\n",
       "       0, 0, 0, 0, 0, 0, 0, 0, 0, 0, 0, 0, 0, 0, 0, 0, 0, 0, 0, 0, 0, 0,\n",
       "       0, 0, 0, 0, 0, 0, 1, 1, 1, 1, 1, 1, 1, 1, 1, 1, 1, 1, 1, 1, 1, 1,\n",
       "       1, 1, 1, 1, 1, 1, 1, 1, 1, 1, 1, 1, 1, 1, 1, 1, 1, 1, 1, 1, 1, 1,\n",
       "       1, 1, 1, 1, 1, 1, 1, 1, 1, 1, 1, 1, 2, 2, 2, 2, 2, 2, 2, 2, 2, 2,\n",
       "       2, 2, 2, 2, 2, 2, 2, 2, 2, 2, 2, 2, 2, 2, 2, 2, 2, 2, 2, 2, 2, 2,\n",
       "       2, 2, 2, 2, 2, 2, 2, 2, 2, 2, 2, 2, 2, 2, 2, 2, 2, 2])"
      ]
     },
     "execution_count": 3,
     "metadata": {},
     "output_type": "execute_result"
    }
   ],
   "source": [
    "iris.target"
   ]
  },
  {
   "cell_type": "markdown",
   "metadata": {},
   "source": [
    "Next we plot this data using scatter plots via `matplotlib`. See how we can use `numpy` fancy indexing to select sub-portions of the data that belong to certain target values."
   ]
  },
  {
   "cell_type": "code",
   "execution_count": 4,
   "metadata": {},
   "outputs": [
    {
     "data": {
      "image/png": "[encoded data removed]",
      "text/plain": [
       "<Figure size 800x400 with 2 Axes>"
      ]
     },
     "metadata": {},
     "output_type": "display_data"
    }
   ],
   "source": [
    "from matplotlib import pyplot as plt\n",
    "\n",
    "def plot_scatter_by_label(bunch, x=0, y=1, ax=None, legend=False):\n",
    "    ax = plt.gca() if ax is None else ax\n",
    "    for i, name in enumerate(bunch.target_names):\n",
    "        ax.scatter(bunch.data[bunch.target == i, x], bunch.data[bunch.target == i, y], label=name)\n",
    "        ax.set_xlabel(bunch.feature_names[x])\n",
    "        ax.set_ylabel(bunch.feature_names[y])\n",
    "    if legend: ax.legend()\n",
    "\n",
    "_, axs = plt.subplots(1, 2, figsize=(8, 4), tight_layout=True)\n",
    "plot_scatter_by_label(iris, 0, 1, ax=axs[0], legend=True)\n",
    "plot_scatter_by_label(iris, 2, 3, ax=axs[1])\n",
    "plt.show()"
   ]
  },
  {
   "cell_type": "markdown",
   "metadata": {},
   "source": [
    "## Splitting the Data into Train and Test Set\n",
    "\n",
    "A crucial step for evaluating machine learning algorithms is to split the available data into a train and a test set. In `scikit-learn` we can use the function [`model_selection.train_test_split`](https://scikit-learn.org/stable/modules/generated/sklearn.model_selection.train_test_split.html) for that step. In the future you will likely resort to importing that function when you want to perform a training/test split. Just for this time, let us re-implement the function to practice numpy and to prepare ourselves for the situation when we would like to implement more complicated splitting schemes (like in the next activity)."
   ]
  },
  {
   "cell_type": "markdown",
   "metadata": {},
   "source": [
    "#### Task A: Why to split?\n",
    "\n",
    "**Explain in two to three sentences, what is the purpose of splitting the data into training and test sets and why is it important?**\n",
    "\n",
    "*[YOUR ANSWER HERE]*"
   ]
  },
  {
   "cell_type": "markdown",
   "metadata": {},
   "source": [
    "#### Task B: How to split?\n",
    "\n",
    "**Finish the implementation of the below function by adding a return statement**\n",
    "\n",
    "Hint: remember how we can use indexing with numpy arrays to select a subset of array elements."
   ]
  },
  {
   "cell_type": "code",
   "execution_count": 5,
   "metadata": {},
   "outputs": [
    {
     "ename": "TypeError",
     "evalue": "cannot unpack non-iterable NoneType object",
     "output_type": "error",
     "traceback": [
      "\u001b[1;31m---------------------------------------------------------------------------\u001b[0m",
      "\u001b[1;31mTypeError\u001b[0m                                 Traceback (most recent call last)",
      "Cell \u001b[1;32mIn[5], line 12\u001b[0m\n\u001b[0;32m      9\u001b[0m     RNG\u001b[38;5;241m.\u001b[39mshuffle(idx_test)\n\u001b[0;32m     10\u001b[0m     \u001b[38;5;66;03m# YOUR CODE HERE\u001b[39;00m\n\u001b[1;32m---> 12\u001b[0m x_train, x_test, y_train, y_test \u001b[38;5;241m=\u001b[39m train_test_split(iris\u001b[38;5;241m.\u001b[39mdata, iris\u001b[38;5;241m.\u001b[39mtarget, train_size\u001b[38;5;241m=\u001b[39m\u001b[38;5;241m0.6\u001b[39m, random_state\u001b[38;5;241m=\u001b[39m\u001b[38;5;241m1\u001b[39m)\n",
      "\u001b[1;31mTypeError\u001b[0m: cannot unpack non-iterable NoneType object"
     ]
    }
   ],
   "source": [
    "import numpy as np\n",
    "\n",
    "def train_test_split(x, y, train_size=0.6, random_state=None):\n",
    "    RNG = np.random.default_rng(random_state)\n",
    "    N = len(x)\n",
    "    N_train = round(N*train_size)\n",
    "    idx_train = RNG.choice(N, N_train, replace=False)\n",
    "    idx_test = np.setdiff1d(np.arange(N), idx_train)\n",
    "    RNG.shuffle(idx_test)\n",
    "    # YOUR CODE HERE\n",
    "\n",
    "x_train, x_test, y_train, y_test = train_test_split(iris.data, iris.target, train_size=0.6, random_state=1)"
   ]
  },
  {
   "cell_type": "markdown",
   "metadata": {},
   "source": [
    "## Implementing $k$-NN \n",
    "\n",
    "Now we can go ahead and implement the $k$-NN classifier. For that we will follow the conventations of `scikit-learn` \"estimators\" (objects that allow us to estimate certain quantities from data). In `scikit-learn`, users interact with estimators in three steps:\n",
    "\n",
    "1. **Define:** set all hyper-parameters through the object's initialiser (as defined in the `__init__` method)\n",
    "2. **Fit:** fit (or train) the model using a training dataset through the estimator's `fit` method\n",
    "3. **Predict:** use the estimator to predict unknwon quantities for new data throught the estimator's `predict` method\n",
    "\n",
    "Below is an almost complete implementation of these three steps for the $k$-NN classifier:\n",
    "\n",
    "- The `__init__` method simply sets the hyper-parameter $k$.\n",
    "- The `fit` method also does not have to do much: As $k$-NN is a lazy learner it simply stores the training data to work with it later at prediction time. In this case, the input variables of the training data are stored in a special data structure called kd-tree that, the implementation of which we are taking from the `scipy` library. You can find further information [here](https://docs.scipy.org/doc/scipy/reference/generated/scipy.spatial.KDTree.html), but all we need to know about this data structure at this point is that it makes determining the nearest neighbours of a datapoint very efficient.\n",
    "- In the `predict` method we can see how the kd-tree is used to find the $k$-nearest neighbour matrix for the given data. This matrix is given as a `numpy.ndarray` of shape `(m, k)` when predicting the label for `m` datapoints, and it contains in row $i$ the indices of the $k$ nearest neighbours in the training data of the $i$-th test point."
   ]
  },
  {
   "cell_type": "markdown",
   "metadata": {},
   "source": [
    "#### Task C: Finish the Implementation of Predict\n",
    "\n",
    "Hint: The part that finds the nearest neighbours for all given test data points is already implemented. Similarly, the last two rows already contain the code for computing (using [`scipy.stats.mode`](https://docs.scipy.org/doc/scipy/reference/generated/scipy.stats.mode.html)) and returning the majority target values among the target values of those neighbours. Thus, it only remains to retrieve the stored training labels for those neighbours. How can you do that with array indexing?"
   ]
  },
  {
   "cell_type": "code",
   "execution_count": null,
   "metadata": {},
   "outputs": [],
   "source": [
    "from scipy.spatial import KDTree\n",
    "from scipy.stats import mode\n",
    "\n",
    "class KnnClassifier:\n",
    "\n",
    "    def __init__(self, k):\n",
    "        self.k = k\n",
    "\n",
    "    def fit(self, x, y):\n",
    "        self.y_train_ = y\n",
    "        self.x_train_kdtree_ = KDTree(x)\n",
    "        return self\n",
    "\n",
    "    def predict(self, x):\n",
    "        _, neighbours = self.x_train_kdtree_.query(x, k=self.k)\n",
    "        neighbours = neighbours.reshape(len(x), self.k)\n",
    "        neighbour_labels = # YOUR CODE HERE\n",
    "        m, _ = mode(neighbour_labels, axis=1, keepdims=False)\n",
    "        return m"
   ]
  },
  {
   "cell_type": "markdown",
   "metadata": {},
   "source": [
    "#### Task D: Apply $k$-NN to Predict Iris Species\n",
    "\n",
    "**Use our above implementation to predict the iris species of the test set after fitting the model on the training set. Store the predictions as `y_hat_test`.**\n",
    "\n",
    "Hint: recall the three steps define, fit, predict. Use some \"reasonable\" for $k$, e.g., $k=4$.\n"
   ]
  },
  {
   "cell_type": "code",
   "execution_count": null,
   "metadata": {},
   "outputs": [],
   "source": [
    "knn = # YOUR CODE HERE\n",
    "y_hat_test = # YOUR CODE HERE\n",
    "y_hat_test\n"
   ]
  },
  {
   "cell_type": "markdown",
   "metadata": {},
   "source": [
    "#### Task E: Determining the Error Rate\n",
    "\n",
    "**Add one line in the code below to complete the implementation of the function `error_rate`.**\n",
    "\n",
    "As a reminder: For predictions $\\hat{y}$ of true labels $y$, we define the 0-1 error (also *error rate*) of the classifier as the fraction of misclassified examples, i.e., for $n$ examples, we define\n",
    "\n",
    "\\begin{equation*}\n",
    "e(y, \\hat{y}) = \\sum_{i=1}^n \\delta_{(y_i\\neq \\hat{y}_i)}\n",
    "\\end{equation*}\n",
    "where\n",
    "\\begin{equation*}\n",
    "\\delta_{(y_i\\neq \\hat{y}_i)}=\n",
    "\\begin{cases}\n",
    "0 &, \\text{ if } y_i = \\hat{y}_i\\\\\n",
    "1 &, \\text{ otherwise}\n",
    "\\end{cases}\\enspace .\n",
    "\\end{equation*}\n",
    "\n"
   ]
  },
  {
   "cell_type": "code",
   "execution_count": null,
   "metadata": {},
   "outputs": [],
   "source": [
    "def error_rate(y, y_hat):\n",
    "    n = len(y)\n",
    "    sum_of_errors = # YOUR CODE HERE\n",
    "    return sum_of_errors/n\n",
    "\n",
    "y_hat_train = knn.predict(x_train)\n",
    "error_rate(y_train, y_hat_train), error_rate(y_test, y_hat_test)"
   ]
  },
  {
   "cell_type": "markdown",
   "metadata": {},
   "source": [
    "A more detailed summary of our prediction results is provided by a confusion matrix, which shows the distribution of predictions per true label. We can use `scikit-learn` to both, compute and conveniently plot, a confusion matrix."
   ]
  },
  {
   "cell_type": "code",
   "execution_count": null,
   "metadata": {},
   "outputs": [],
   "source": [
    "from sklearn.metrics import confusion_matrix\n",
    "\n",
    "cm = confusion_matrix(y_test, y_hat_test)\n",
    "cm"
   ]
  },
  {
   "cell_type": "code",
   "execution_count": null,
   "metadata": {},
   "outputs": [],
   "source": [
    "from sklearn.metrics import ConfusionMatrixDisplay\n",
    "\n",
    "ConfusionMatrixDisplay(cm, display_labels=iris.target_names).plot()\n",
    "plt.show()"
   ]
  },
  {
   "cell_type": "markdown",
   "metadata": {},
   "source": [
    "### The effect of the hyper-parameter $k$\n",
    "\n",
    "Having tried out the classifier for a single value of $k$ we now turn to systematically test a range of $k$-values. "
   ]
  },
  {
   "cell_type": "code",
   "execution_count": null,
   "metadata": {},
   "outputs": [],
   "source": [
    "error_rates_train = []\n",
    "error_rates_test = []\n",
    "\n",
    "max_k = 60\n",
    "for k in range(1, max_k+1):\n",
    "    knn = KnnClassifier(k).fit(x_train, y_train)\n",
    "    error_rates_train.append(error_rate(y_train, knn.predict(x_train)))\n",
    "    error_rates_test.append(error_rate(y_test, knn.predict(x_test)))"
   ]
  },
  {
   "cell_type": "markdown",
   "metadata": {},
   "source": [
    "Let us again use `matplotlib` to plot the outcomes of this experiment in two views."
   ]
  },
  {
   "cell_type": "code",
   "execution_count": null,
   "metadata": {},
   "outputs": [],
   "source": [
    "_, axs = plt.subplots(1, 2, figsize=(8, 4), tight_layout=True, sharey=True)\n",
    "ks = np.arange(1, max_k+1)\n",
    "axs[0].plot(ks, error_rates_test, label='test')\n",
    "axs[0].plot(ks, error_rates_train, label='train')\n",
    "axs[0].margins(x=0)\n",
    "axs[0].set_ylabel('error rate')\n",
    "axs[0].set_xlabel('$k$')\n",
    "axs[0].legend()\n",
    "axs[1].plot(1/ks, error_rates_test)\n",
    "axs[1].plot(1/ks, error_rates_train)\n",
    "axs[1].margins(x=0)\n",
    "axs[1].set_xlabel('$1/k$')\n",
    "axs[1].set_xscale('log')\n",
    "plt.show()"
   ]
  },
  {
   "cell_type": "markdown",
   "metadata": {},
   "source": [
    "## Discussion\n",
    "\n",
    "#### Task F: Briefly discuss the following questions:\n",
    "\n",
    "**Based on the above experiment, what is the best value for $k$?**\n",
    "\n",
    "**What general trends can you discern about the effect of $k$?**\n",
    "\n",
    "**Are there different trends for train and test error and can you relate them to the phenomena of overfitting and underfitting?**\n",
    "\n",
    "**Would you get different results if you rerun the experiment with a different training/test split and is there a way to improve the experiment?**\n",
    "\t"
   ]
  }
 ],
 "metadata": {
  "kernelspec": {
   "display_name": "Python 3 (ipykernel)",
   "language": "python",
   "name": "python3"
  },
  "language_info": {
   "codemirror_mode": {
    "name": "ipython",
    "version": 3
   },
   "file_extension": ".py",
   "mimetype": "text/x-python",
   "name": "python",
   "nbconvert_exporter": "python",
   "pygments_lexer": "ipython3",
   "version": "3.9.13"
  },
  "vscode": {
   "interpreter": {
    "hash": "aee8b7b246df8f9039afb4144a1f6fd8d2ca17a180786b69acc140d282b71a49"
   }
  }
 },
 "nbformat": 4,
 "nbformat_minor": 1
}
